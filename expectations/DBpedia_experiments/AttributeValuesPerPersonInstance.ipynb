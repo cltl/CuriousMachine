{
 "cells": [
  {
   "cell_type": "code",
   "execution_count": 3,
   "metadata": {
    "collapsed": true
   },
   "outputs": [],
   "source": [
    "import utils\n",
    "import queries\n",
    "import pickle\n",
    "import json\n",
    "%matplotlib notebook\n",
    "\n",
    "person_ontology_uri=\"http://dbpedia.org/ontology/Person\"\n",
    "NUMATTR=50"
   ]
  },
  {
   "cell_type": "code",
   "execution_count": 4,
   "metadata": {
    "collapsed": true
   },
   "outputs": [],
   "source": [
    "person_common_attributes=queries.get_most_frequent_attributes(\"http://dbpedia.org/ontology/Person\", NUMATTR)"
   ]
  },
  {
   "cell_type": "code",
   "execution_count": 5,
   "metadata": {
    "collapsed": false
   },
   "outputs": [
    {
     "name": "stdout",
     "output_type": "stream",
     "text": [
      "{'http://dbpedia.org/property/knownFor', 'http://dbpedia.org/property/otherNames', 'http://dbpedia.org/ontology/deathYear', 'http://dbpedia.org/property/deathDate', 'http://dbpedia.org/property/education', 'http://dbpedia.org/property/name', 'http://dbpedia.org/property/almaMater', 'http://dbpedia.org/property/birthPlace', 'http://dbpedia.org/property/years', 'http://dbpedia.org/property/dateOfDeath', 'http://www.w3.org/1999/02/22-rdf-syntax-ns#type', 'http://dbpedia.org/property/shortDescription', 'http://dbpedia.org/property/children', 'http://dbpedia.org/property/imageSize', 'http://dbpedia.org/property/alternativeNames', 'http://dbpedia.org/property/before', 'http://dbpedia.org/ontology/activeYearsStartYear', 'http://dbpedia.org/property/with', 'http://dbpedia.org/ontology/alias', 'http://dbpedia.org/ontology/imdbId', 'http://dbpedia.org/property/religion', 'http://dbpedia.org/property/website', 'http://dbpedia.org/property/relatives', 'http://dbpedia.org/property/dateOfBirth', 'http://purl.org/dc/terms/subject', 'http://purl.org/voc/vrank#hasRank', 'http://dbpedia.org/ontology/birthName', 'http://dbpedia.org/property/id', 'http://dbpedia.org/property/birthName', 'http://dbpedia.org/property/placeOfDeath', 'http://dbpedia.org/property/parents', 'http://dbpedia.org/property/deathPlace', 'http://dbpedia.org/property/placeOfBirth', 'http://xmlns.com/foaf/0.1/name', 'http://dbpedia.org/ontology/activeYearsEndYear', 'http://dbpedia.org/ontology/birthYear', 'http://dbpedia.org/property/awards', 'http://dbpedia.org/ontology/birthDate', 'http://purl.org/dc/elements/1.1/description', 'http://dbpedia.org/property/nationality', 'http://dbpedia.org/property/spouse', 'http://dbpedia.org/property/residence', 'http://dbpedia.org/property/title', 'http://dbpedia.org/property/after', 'http://dbpedia.org/property/occupation', 'http://dbpedia.org/property/yearsActive', 'http://dbpedia.org/ontology/deathDate', 'http://dbpedia.org/property/yearsactive', 'http://dbpedia.org/property/birthDate', 'http://dbpedia.org/property/caption'}\n"
     ]
    }
   ],
   "source": [
    "print(person_common_attributes)"
   ]
  },
  {
   "cell_type": "code",
   "execution_count": null,
   "metadata": {
    "collapsed": true
   },
   "outputs": [],
   "source": []
  }
 ],
 "metadata": {
  "anaconda-cloud": {},
  "kernelspec": {
   "display_name": "Python [Root]",
   "language": "python",
   "name": "Python [Root]"
  },
  "language_info": {
   "codemirror_mode": {
    "name": "ipython",
    "version": 3
   },
   "file_extension": ".py",
   "mimetype": "text/x-python",
   "name": "python",
   "nbconvert_exporter": "python",
   "pygments_lexer": "ipython3",
   "version": "3.5.3"
  }
 },
 "nbformat": 4,
 "nbformat_minor": 2
}
