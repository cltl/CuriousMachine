{
 "cells": [
  {
   "cell_type": "code",
   "execution_count": 1,
   "metadata": {
    "collapsed": true
   },
   "outputs": [],
   "source": [
    "DATA_DIR=\"robot_scientists/\"\n",
    "dark_concepts_file=DATA_DIR + \"dark-entities-parents.tsv\"\n",
    "light_concepts_file=DATA_DIR + \"light-entities-parents.tsv\"\n",
    "nonentities_concepts_file=DATA_DIR + \"nonentities-concepts.tsv\"\n",
    "\n",
    "DBPEDIA_DIR=\"dbpedia_data/\"\n",
    "instance_types=DBPEDIA_DIR + \"instance_types.ttl\"\n",
    "genders=DBPEDIA_DIR + \"genders_en.ttl\"\n",
    "infoboxes=DBPEDIA_DIR + \"infobox_properties_en.ttl\""
   ]
  },
  {
   "cell_type": "code",
   "execution_count": 2,
   "metadata": {
    "collapsed": false
   },
   "outputs": [
    {
     "name": "stdout",
     "output_type": "stream",
     "text": [
      "486\n"
     ]
    }
   ],
   "source": [
    "types=set()\n",
    "maxPercentage=10\n",
    "with open(light_concepts_file, 'r') as concepts:\n",
    "    maxOccurrences=0\n",
    "    for index, c in enumerate(concepts):\n",
    "        if index==0:\n",
    "            maxOccurences=int(c.split()[0])\n",
    "        row=c.split()\n",
    "        if int(row[0])<maxPercentage*maxOccurences/100:\n",
    "            break\n",
    "        types.add(row[2].lstrip('\"').rstrip('\",'))\n",
    "print(maxOccurences)"
   ]
  },
  {
   "cell_type": "code",
   "execution_count": 3,
   "metadata": {
    "collapsed": false
   },
   "outputs": [
    {
     "name": "stdout",
     "output_type": "stream",
     "text": [
      "{'http://dbpedia.org/ontology/Person', 'http://dbpedia.org/ontology/Scientist', 'http://dbpedia.org/ontology/Royalty', 'http://dbpedia.org/ontology/FictionalCharacter', 'http://dbpedia.org/ontology/Company', 'http://dbpedia.org/ontology/Writer', 'http://dbpedia.org/ontology/Country', 'http://dbpedia.org/ontology/Book', 'http://dbpedia.org/ontology/Artist', 'http://dbpedia.org/ontology/EthnicGroup', 'http://dbpedia.org/ontology/University', 'http://dbpedia.org/ontology/Organisation', 'http://dbpedia.org/ontology/PopulatedPlace', 'http://dbpedia.org/ontology/City', 'http://dbpedia.org/ontology/Philosopher', 'http://dbpedia.org/ontology/Settlement'}\n"
     ]
    }
   ],
   "source": [
    "print(types)"
   ]
  },
  {
   "cell_type": "code",
   "execution_count": null,
   "metadata": {
    "collapsed": false
   },
   "outputs": [],
   "source": [
    "from rdflib import Graph\n",
    "\n",
    "g=Graph()\n",
    "g.parse(genders, format=\"nt\")\n",
    "g.parse(infoboxes, format=\"nt\")\n",
    "g.parse(instance_types, format=\"nt\")\n",
    "len(g)"
   ]
  },
  {
   "cell_type": "code",
   "execution_count": null,
   "metadata": {
    "collapsed": true
   },
   "outputs": [],
   "source": [
    "def get_distribution_per_class_atribute(g, sem_type=\"\", attribute=\"\"):\n",
    "    query=\"\"\"SELECT count(?entity) as ?cnt\n",
    "        WHERE {\n",
    "        ?entity a %s ;\n",
    "        %s ?att_value\n",
    "        } GROUP BY ?att_value\n",
    "        LIMIT 10\n",
    "    \"\"\" % (sem_type, attribute)\n",
    "    qres = g.query(query)\n",
    "    for row in qres:\n",
    "        print(\"%s knows %s\" % row)"
   ]
  },
  {
   "cell_type": "code",
   "execution_count": null,
   "metadata": {
    "collapsed": true
   },
   "outputs": [],
   "source": []
  }
 ],
 "metadata": {
  "kernelspec": {
   "display_name": "Python [Root]",
   "language": "python",
   "name": "Python [Root]"
  },
  "language_info": {
   "codemirror_mode": {
    "name": "ipython",
    "version": 3
   },
   "file_extension": ".py",
   "mimetype": "text/x-python",
   "name": "python",
   "nbconvert_exporter": "python",
   "pygments_lexer": "ipython3",
   "version": "3.5.3"
  }
 },
 "nbformat": 4,
 "nbformat_minor": 0
}
